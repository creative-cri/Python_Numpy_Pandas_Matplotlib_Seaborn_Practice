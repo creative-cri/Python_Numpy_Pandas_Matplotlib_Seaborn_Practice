{
 "cells": [
  {
   "cell_type": "markdown",
   "id": "94ec6ba5",
   "metadata": {},
   "source": [
    "# Pandas Gym"
   ]
  },
  {
   "cell_type": "code",
   "execution_count": 1,
   "id": "d7284e5a",
   "metadata": {},
   "outputs": [],
   "source": [
    "import pandas as pd\n",
    "import numpy as np"
   ]
  },
  {
   "cell_type": "markdown",
   "id": "863486da",
   "metadata": {},
   "source": [
    "### Series"
   ]
  },
  {
   "cell_type": "code",
   "execution_count": 2,
   "id": "5318e281",
   "metadata": {},
   "outputs": [
    {
     "data": {
      "text/plain": [
       "row1    row1 value\n",
       "row2    row2 value\n",
       "dtype: object"
      ]
     },
     "execution_count": 2,
     "metadata": {},
     "output_type": "execute_result"
    }
   ],
   "source": [
    "sq = pd.Series({\n",
    "    'row1': 'row1 value', \n",
    "    'row2': 'row2 value'\n",
    "})\n",
    "sq"
   ]
  },
  {
   "cell_type": "code",
   "execution_count": 3,
   "id": "8286ce81",
   "metadata": {},
   "outputs": [
    {
     "data": {
      "text/plain": [
       "Index(['row1', 'row2'], dtype='object')"
      ]
     },
     "execution_count": 3,
     "metadata": {},
     "output_type": "execute_result"
    }
   ],
   "source": [
    "sq.index"
   ]
  },
  {
   "cell_type": "code",
   "execution_count": 4,
   "id": "444cbf73",
   "metadata": {},
   "outputs": [
    {
     "data": {
      "text/plain": [
       "array(['row1 value', 'row2 value'], dtype=object)"
      ]
     },
     "execution_count": 4,
     "metadata": {},
     "output_type": "execute_result"
    }
   ],
   "source": [
    "sq.values"
   ]
  },
  {
   "cell_type": "markdown",
   "id": "8e80802d",
   "metadata": {},
   "source": [
    "### DataFrame"
   ]
  },
  {
   "cell_type": "code",
   "execution_count": 5,
   "id": "4878a321",
   "metadata": {},
   "outputs": [
    {
     "data": {
      "text/html": [
       "<div>\n",
       "<style scoped>\n",
       "    .dataframe tbody tr th:only-of-type {\n",
       "        vertical-align: middle;\n",
       "    }\n",
       "\n",
       "    .dataframe tbody tr th {\n",
       "        vertical-align: top;\n",
       "    }\n",
       "\n",
       "    .dataframe thead th {\n",
       "        text-align: right;\n",
       "    }\n",
       "</style>\n",
       "<table border=\"1\" class=\"dataframe\">\n",
       "  <thead>\n",
       "    <tr style=\"text-align: right;\">\n",
       "      <th></th>\n",
       "      <th>column_a</th>\n",
       "      <th>column_b</th>\n",
       "      <th>column_c</th>\n",
       "    </tr>\n",
       "  </thead>\n",
       "  <tbody>\n",
       "    <tr>\n",
       "      <th>row1</th>\n",
       "      <td>row1 col a</td>\n",
       "      <td>row1 col b</td>\n",
       "      <td>row1 col c</td>\n",
       "    </tr>\n",
       "    <tr>\n",
       "      <th>row2</th>\n",
       "      <td>row2 col a</td>\n",
       "      <td>row2 col b</td>\n",
       "      <td>row2 col c</td>\n",
       "    </tr>\n",
       "  </tbody>\n",
       "</table>\n",
       "</div>"
      ],
      "text/plain": [
       "        column_a    column_b    column_c\n",
       "row1  row1 col a  row1 col b  row1 col c\n",
       "row2  row2 col a  row2 col b  row2 col c"
      ]
     },
     "execution_count": 5,
     "metadata": {},
     "output_type": "execute_result"
    }
   ],
   "source": [
    "df = pd.DataFrame(\n",
    "    {\n",
    "     'column_a': {'row1': 'row1 col a', 'row2': 'row2 col a'}, \n",
    "     'column_b': {'row1': 'row1 col b', 'row2': 'row2 col b'}, \n",
    "     'column_c': {'row1': 'row1 col c', 'row2': 'row2 col c'}, \n",
    "    })\n",
    "df"
   ]
  },
  {
   "cell_type": "markdown",
   "id": "f0ba8dc2",
   "metadata": {},
   "source": [
    "### Columns"
   ]
  },
  {
   "cell_type": "code",
   "execution_count": 6,
   "id": "a7cd7543",
   "metadata": {},
   "outputs": [
    {
     "data": {
      "text/plain": [
       "row1    row1 col b\n",
       "row2    row2 col b\n",
       "Name: column_b, dtype: object"
      ]
     },
     "execution_count": 6,
     "metadata": {},
     "output_type": "execute_result"
    }
   ],
   "source": [
    "df['column_b']"
   ]
  },
  {
   "cell_type": "code",
   "execution_count": 7,
   "id": "8d1f2162",
   "metadata": {},
   "outputs": [
    {
     "data": {
      "text/plain": [
       "Index(['column_a', 'column_b', 'column_c'], dtype='object')"
      ]
     },
     "execution_count": 7,
     "metadata": {},
     "output_type": "execute_result"
    }
   ],
   "source": [
    "df.columns"
   ]
  },
  {
   "cell_type": "code",
   "execution_count": 8,
   "id": "00860a5a",
   "metadata": {},
   "outputs": [
    {
     "data": {
      "text/html": [
       "<div>\n",
       "<style scoped>\n",
       "    .dataframe tbody tr th:only-of-type {\n",
       "        vertical-align: middle;\n",
       "    }\n",
       "\n",
       "    .dataframe tbody tr th {\n",
       "        vertical-align: top;\n",
       "    }\n",
       "\n",
       "    .dataframe thead th {\n",
       "        text-align: right;\n",
       "    }\n",
       "</style>\n",
       "<table border=\"1\" class=\"dataframe\">\n",
       "  <thead>\n",
       "    <tr style=\"text-align: right;\">\n",
       "      <th></th>\n",
       "      <th>new_column1</th>\n",
       "      <th>new_column2</th>\n",
       "      <th>new_column3</th>\n",
       "    </tr>\n",
       "  </thead>\n",
       "  <tbody>\n",
       "    <tr>\n",
       "      <th>row1</th>\n",
       "      <td>row1 col a</td>\n",
       "      <td>row1 col b</td>\n",
       "      <td>row1 col c</td>\n",
       "    </tr>\n",
       "    <tr>\n",
       "      <th>row2</th>\n",
       "      <td>row2 col a</td>\n",
       "      <td>row2 col b</td>\n",
       "      <td>row2 col c</td>\n",
       "    </tr>\n",
       "  </tbody>\n",
       "</table>\n",
       "</div>"
      ],
      "text/plain": [
       "     new_column1 new_column2 new_column3\n",
       "row1  row1 col a  row1 col b  row1 col c\n",
       "row2  row2 col a  row2 col b  row2 col c"
      ]
     },
     "execution_count": 8,
     "metadata": {},
     "output_type": "execute_result"
    }
   ],
   "source": [
    "df.columns = ['new_column1', 'new_column2', 'new_column3'] \n",
    "df"
   ]
  },
  {
   "cell_type": "code",
   "execution_count": 9,
   "id": "0e120ec2",
   "metadata": {},
   "outputs": [
    {
     "data": {
      "text/html": [
       "<div>\n",
       "<style scoped>\n",
       "    .dataframe tbody tr th:only-of-type {\n",
       "        vertical-align: middle;\n",
       "    }\n",
       "\n",
       "    .dataframe tbody tr th {\n",
       "        vertical-align: top;\n",
       "    }\n",
       "\n",
       "    .dataframe thead th {\n",
       "        text-align: right;\n",
       "    }\n",
       "</style>\n",
       "<table border=\"1\" class=\"dataframe\">\n",
       "  <thead>\n",
       "    <tr style=\"text-align: right;\">\n",
       "      <th></th>\n",
       "      <th>abc</th>\n",
       "      <th>new_column2</th>\n",
       "      <th>new_column3</th>\n",
       "    </tr>\n",
       "  </thead>\n",
       "  <tbody>\n",
       "    <tr>\n",
       "      <th>row1</th>\n",
       "      <td>row1 col a</td>\n",
       "      <td>row1 col b</td>\n",
       "      <td>row1 col c</td>\n",
       "    </tr>\n",
       "    <tr>\n",
       "      <th>row2</th>\n",
       "      <td>row2 col a</td>\n",
       "      <td>row2 col b</td>\n",
       "      <td>row2 col c</td>\n",
       "    </tr>\n",
       "  </tbody>\n",
       "</table>\n",
       "</div>"
      ],
      "text/plain": [
       "             abc new_column2 new_column3\n",
       "row1  row1 col a  row1 col b  row1 col c\n",
       "row2  row2 col a  row2 col b  row2 col c"
      ]
     },
     "execution_count": 9,
     "metadata": {},
     "output_type": "execute_result"
    }
   ],
   "source": [
    "df.rename(columns={'new_column1': 'abc'})"
   ]
  },
  {
   "cell_type": "markdown",
   "id": "6a122eaf",
   "metadata": {},
   "source": [
    "### 1. Import data\n",
    "- `.read_hdf()`\n",
    "- `.read_csv()`\n",
    "\n",
    "### 2. View data\n",
    "- `.shape()`\n",
    "- `.head()`\n",
    "- `.sample()`\n",
    "- `.tail()`\n",
    "- `.info()`\n",
    "\n",
    "### 3. Data Transformation\n",
    "- `.map()`\n",
    "- `.apply()`\n",
    "- `.fillna()`\n",
    "- `.factorize()`\n",
    "\n",
    "### 4. Grouping/sort data\n",
    "- `.value_counts()`\n",
    "- `.groupby()`\n",
    "- `.agg()`\n",
    "- `.sort_values()`\n",
    "- `.pivot_table()`\n",
    "\n",
    "### 5. Math statistic functions\n",
    "- `.mean()`\n",
    "- `.median()`\n",
    "- `.min()`\n",
    "- `.max()`\n",
    "\n",
    "### 6. Visualize data\n",
    "- `.hist()`\n",
    "\n",
    "\n",
    "### 7. Other functions\n",
    "- `.qcut()` \n",
    "- `.unique()`\n",
    "- `.nunique()`"
   ]
  },
  {
   "cell_type": "markdown",
   "id": "a101169c",
   "metadata": {},
   "source": [
    "### 1. Import data"
   ]
  },
  {
   "cell_type": "code",
   "execution_count": 14,
   "id": "38bfa0a5",
   "metadata": {},
   "outputs": [],
   "source": [
    "df = pd.read_hdf(\"train_data.h5\")"
   ]
  },
  {
   "cell_type": "markdown",
   "id": "17332414",
   "metadata": {},
   "source": [
    "### 2. View data"
   ]
  },
  {
   "cell_type": "code",
   "execution_count": 15,
   "id": "ab5db9d6",
   "metadata": {},
   "outputs": [
    {
     "data": {
      "text/plain": [
       "(22732, 8)"
      ]
     },
     "execution_count": 15,
     "metadata": {},
     "output_type": "execute_result"
    }
   ],
   "source": [
    "df.shape"
   ]
  },
  {
   "cell_type": "code",
   "execution_count": 16,
   "id": "f2315c90",
   "metadata": {},
   "outputs": [
    {
     "data": {
      "text/html": [
       "<div>\n",
       "<style scoped>\n",
       "    .dataframe tbody tr th:only-of-type {\n",
       "        vertical-align: middle;\n",
       "    }\n",
       "\n",
       "    .dataframe tbody tr th {\n",
       "        vertical-align: top;\n",
       "    }\n",
       "\n",
       "    .dataframe thead th {\n",
       "        text-align: right;\n",
       "    }\n",
       "</style>\n",
       "<table border=\"1\" class=\"dataframe\">\n",
       "  <thead>\n",
       "    <tr style=\"text-align: right;\">\n",
       "      <th></th>\n",
       "      <th>geo_block</th>\n",
       "      <th>breadcrumbs</th>\n",
       "      <th>price</th>\n",
       "      <th>owner</th>\n",
       "      <th>params</th>\n",
       "      <th>date</th>\n",
       "      <th>user_block</th>\n",
       "      <th>id</th>\n",
       "    </tr>\n",
       "  </thead>\n",
       "  <tbody>\n",
       "    <tr>\n",
       "      <th>0</th>\n",
       "      <td>[г. Москва, Лианозово, г. Москва, Лианозово]</td>\n",
       "      <td>[Москва, Лианозово, м. Алтуфьево, МЦК Лихоборы]</td>\n",
       "      <td>5 402 084 ₽</td>\n",
       "      <td>[]</td>\n",
       "      <td>{'Охрана:': 'закрытая территория', 'Тип здания...</td>\n",
       "      <td>[22 апреля, 12, (+1 за сегодня), Обновлено 18 ...</td>\n",
       "      <td>[&lt;div class=\"block-user__name\"&gt;НДВ Недвижимост...</td>\n",
       "      <td>34995</td>\n",
       "    </tr>\n",
       "    <tr>\n",
       "      <th>1</th>\n",
       "      <td>[г. Москва, Ховрино, г. Москва, Ховрино]</td>\n",
       "      <td>[Москва, Ховрино, м. Ховрино, МЦК Коптево]</td>\n",
       "      <td>6 827 990 ₽</td>\n",
       "      <td>[]</td>\n",
       "      <td>{'Лифт:': 'да', 'Тип здания:': 'Монолитное', '...</td>\n",
       "      <td>[10 мая, 2, (+1 за сегодня), Обновлено 16 мая]</td>\n",
       "      <td>[&lt;div class=\"block-user__name\"&gt;MR-Group&lt;/div&gt;,...</td>\n",
       "      <td>15030</td>\n",
       "    </tr>\n",
       "    <tr>\n",
       "      <th>2</th>\n",
       "      <td>[г. Москва, ул Лобачевского, г. Москва, ул Лоб...</td>\n",
       "      <td>[Москва, МЦК Кутузовская, ул. Лобачевского]</td>\n",
       "      <td>8 680 000 ₽</td>\n",
       "      <td>[ЖК \"Крылья\". Доп. скидка 5%!]</td>\n",
       "      <td>{'Лифт:': 'да', 'Охрана:': 'закрытая территори...</td>\n",
       "      <td>[20 марта, 12, (+2 за сегодня), Обновлено 18 мая]</td>\n",
       "      <td>[]</td>\n",
       "      <td>37811</td>\n",
       "    </tr>\n",
       "    <tr>\n",
       "      <th>3</th>\n",
       "      <td>[г. Москва, Ховрино, ул Дыбенко, г. Москва, Хо...</td>\n",
       "      <td>[Москва, Ховрино, м. Ховрино, МЦК Коптево, ул....</td>\n",
       "      <td>8 624 435 ₽</td>\n",
       "      <td>[]</td>\n",
       "      <td>{'Лифт:': 'да', 'Тип здания:': 'Монолитное', '...</td>\n",
       "      <td>[29 апреля, 3, (+1 за сегодня), Обновлено 13 мая]</td>\n",
       "      <td>[&lt;div class=\"block-user__name\"&gt;MR-Group&lt;/div&gt;,...</td>\n",
       "      <td>31685</td>\n",
       "    </tr>\n",
       "    <tr>\n",
       "      <th>4</th>\n",
       "      <td>[г. Москва, Даниловский, г. Москва, Даниловский]</td>\n",
       "      <td>[Москва, Даниловский, м. Автозаводская, МЦК Ав...</td>\n",
       "      <td>29 500 000 ₽</td>\n",
       "      <td>[]</td>\n",
       "      <td>{'Общая площадь:': '141.1 м²', 'Дата публикаци...</td>\n",
       "      <td>[15 декабря 2018, 30, (+1 за сегодня), Обновле...</td>\n",
       "      <td>[&lt;div class=\"block-user__name\"&gt;Наталья Вдовиче...</td>\n",
       "      <td>56215</td>\n",
       "    </tr>\n",
       "  </tbody>\n",
       "</table>\n",
       "</div>"
      ],
      "text/plain": [
       "                                           geo_block  \\\n",
       "0       [г. Москва, Лианозово, г. Москва, Лианозово]   \n",
       "1           [г. Москва, Ховрино, г. Москва, Ховрино]   \n",
       "2  [г. Москва, ул Лобачевского, г. Москва, ул Лоб...   \n",
       "3  [г. Москва, Ховрино, ул Дыбенко, г. Москва, Хо...   \n",
       "4   [г. Москва, Даниловский, г. Москва, Даниловский]   \n",
       "\n",
       "                                         breadcrumbs         price  \\\n",
       "0    [Москва, Лианозово, м. Алтуфьево, МЦК Лихоборы]   5 402 084 ₽   \n",
       "1         [Москва, Ховрино, м. Ховрино, МЦК Коптево]   6 827 990 ₽   \n",
       "2        [Москва, МЦК Кутузовская, ул. Лобачевского]   8 680 000 ₽   \n",
       "3  [Москва, Ховрино, м. Ховрино, МЦК Коптево, ул....   8 624 435 ₽   \n",
       "4  [Москва, Даниловский, м. Автозаводская, МЦК Ав...  29 500 000 ₽   \n",
       "\n",
       "                            owner  \\\n",
       "0                              []   \n",
       "1                              []   \n",
       "2  [ЖК \"Крылья\". Доп. скидка 5%!]   \n",
       "3                              []   \n",
       "4                              []   \n",
       "\n",
       "                                              params  \\\n",
       "0  {'Охрана:': 'закрытая территория', 'Тип здания...   \n",
       "1  {'Лифт:': 'да', 'Тип здания:': 'Монолитное', '...   \n",
       "2  {'Лифт:': 'да', 'Охрана:': 'закрытая территори...   \n",
       "3  {'Лифт:': 'да', 'Тип здания:': 'Монолитное', '...   \n",
       "4  {'Общая площадь:': '141.1 м²', 'Дата публикаци...   \n",
       "\n",
       "                                                date  \\\n",
       "0  [22 апреля, 12, (+1 за сегодня), Обновлено 18 ...   \n",
       "1     [10 мая, 2, (+1 за сегодня), Обновлено 16 мая]   \n",
       "2  [20 марта, 12, (+2 за сегодня), Обновлено 18 мая]   \n",
       "3  [29 апреля, 3, (+1 за сегодня), Обновлено 13 мая]   \n",
       "4  [15 декабря 2018, 30, (+1 за сегодня), Обновле...   \n",
       "\n",
       "                                          user_block     id  \n",
       "0  [<div class=\"block-user__name\">НДВ Недвижимост...  34995  \n",
       "1  [<div class=\"block-user__name\">MR-Group</div>,...  15030  \n",
       "2                                                 []  37811  \n",
       "3  [<div class=\"block-user__name\">MR-Group</div>,...  31685  \n",
       "4  [<div class=\"block-user__name\">Наталья Вдовиче...  56215  "
      ]
     },
     "execution_count": 16,
     "metadata": {},
     "output_type": "execute_result"
    }
   ],
   "source": [
    "df.head()"
   ]
  },
  {
   "cell_type": "code",
   "execution_count": 17,
   "id": "23083109",
   "metadata": {},
   "outputs": [
    {
     "data": {
      "text/html": [
       "<div>\n",
       "<style scoped>\n",
       "    .dataframe tbody tr th:only-of-type {\n",
       "        vertical-align: middle;\n",
       "    }\n",
       "\n",
       "    .dataframe tbody tr th {\n",
       "        vertical-align: top;\n",
       "    }\n",
       "\n",
       "    .dataframe thead th {\n",
       "        text-align: right;\n",
       "    }\n",
       "</style>\n",
       "<table border=\"1\" class=\"dataframe\">\n",
       "  <thead>\n",
       "    <tr style=\"text-align: right;\">\n",
       "      <th></th>\n",
       "      <th>geo_block</th>\n",
       "      <th>breadcrumbs</th>\n",
       "      <th>price</th>\n",
       "      <th>owner</th>\n",
       "      <th>params</th>\n",
       "      <th>date</th>\n",
       "      <th>user_block</th>\n",
       "      <th>id</th>\n",
       "    </tr>\n",
       "  </thead>\n",
       "  <tbody>\n",
       "    <tr>\n",
       "      <th>10161</th>\n",
       "      <td>[г. Москва, Черёмушки, г. Москва, Черёмушки]</td>\n",
       "      <td>[Москва, Черёмушки, м. Профсоюзная, МЦК Крымская]</td>\n",
       "      <td>10 816 195 ₽</td>\n",
       "      <td>[]</td>\n",
       "      <td>{'Общая площадь:': '70.1 м²', 'Дата публикации...</td>\n",
       "      <td>[16 мая, 3, (+1 за сегодня)]</td>\n",
       "      <td>[&lt;div class=\"block-user__name\"&gt;Елена Зуева&lt;/di...</td>\n",
       "      <td>52048</td>\n",
       "    </tr>\n",
       "    <tr>\n",
       "      <th>717</th>\n",
       "      <td>[г. Москва, Хорошёво-Мнёвники, г. Москва, Хоро...</td>\n",
       "      <td>[Москва, Хорошёво-Мнёвники, м. Октябрьское пол...</td>\n",
       "      <td>15 899 100 ₽</td>\n",
       "      <td>[]</td>\n",
       "      <td>{'Лифт:': 'да', 'Охрана:': 'предусмотрена', 'Т...</td>\n",
       "      <td>[вчера в 05:44, 2, (+2 за сегодня)]</td>\n",
       "      <td>[&lt;div class=\"block-user__name\"&gt;Офис продаж ЖК ...</td>\n",
       "      <td>10331</td>\n",
       "    </tr>\n",
       "    <tr>\n",
       "      <th>11832</th>\n",
       "      <td>[г. Москва, г. Москва]</td>\n",
       "      <td>[Москва, МЦК Шоссе Энтузиастов]</td>\n",
       "      <td>6 150 000 ₽</td>\n",
       "      <td>[]</td>\n",
       "      <td>{'Тип здания:': 'Панельный', 'Тип объекта:': '...</td>\n",
       "      <td>[14 марта, 12, (+1 за сегодня), Обновлено 15 мая]</td>\n",
       "      <td>[&lt;div class=\"block-user__name\"&gt;Стройинвест&lt;/di...</td>\n",
       "      <td>60127</td>\n",
       "    </tr>\n",
       "    <tr>\n",
       "      <th>18527</th>\n",
       "      <td>[Новая Москва, п. Сосенское, д. Николо-Хованск...</td>\n",
       "      <td>[Москва, Новая Москва, п. Сосенское, д. Николо...</td>\n",
       "      <td>12 690 000 ₽</td>\n",
       "      <td>[Район «Испанские кварталы»]</td>\n",
       "      <td>{'Лифт:': 'да', 'Тип здания:': 'Монолитное', '...</td>\n",
       "      <td>[9 октября 2018, 33, (+2 за сегодня), Обновлен...</td>\n",
       "      <td>[]</td>\n",
       "      <td>42054</td>\n",
       "    </tr>\n",
       "    <tr>\n",
       "      <th>7545</th>\n",
       "      <td>[г. Москва, г. Москва]</td>\n",
       "      <td>[Москва, МЦК Шоссе Энтузиастов]</td>\n",
       "      <td>9 940 000 ₽</td>\n",
       "      <td>[]</td>\n",
       "      <td>{'Тип здания:': 'Панельный', 'Тип объекта:': '...</td>\n",
       "      <td>[13 апреля, 10, (+3 за сегодня), Обновлено 17 ...</td>\n",
       "      <td>[&lt;div class=\"block-user__name\"&gt;Стройинвест&lt;/di...</td>\n",
       "      <td>47950</td>\n",
       "    </tr>\n",
       "  </tbody>\n",
       "</table>\n",
       "</div>"
      ],
      "text/plain": [
       "                                               geo_block  \\\n",
       "10161       [г. Москва, Черёмушки, г. Москва, Черёмушки]   \n",
       "717    [г. Москва, Хорошёво-Мнёвники, г. Москва, Хоро...   \n",
       "11832                             [г. Москва, г. Москва]   \n",
       "18527  [Новая Москва, п. Сосенское, д. Николо-Хованск...   \n",
       "7545                              [г. Москва, г. Москва]   \n",
       "\n",
       "                                             breadcrumbs         price  \\\n",
       "10161  [Москва, Черёмушки, м. Профсоюзная, МЦК Крымская]  10 816 195 ₽   \n",
       "717    [Москва, Хорошёво-Мнёвники, м. Октябрьское пол...  15 899 100 ₽   \n",
       "11832                    [Москва, МЦК Шоссе Энтузиастов]   6 150 000 ₽   \n",
       "18527  [Москва, Новая Москва, п. Сосенское, д. Николо...  12 690 000 ₽   \n",
       "7545                     [Москва, МЦК Шоссе Энтузиастов]   9 940 000 ₽   \n",
       "\n",
       "                              owner  \\\n",
       "10161                            []   \n",
       "717                              []   \n",
       "11832                            []   \n",
       "18527  [Район «Испанские кварталы»]   \n",
       "7545                             []   \n",
       "\n",
       "                                                  params  \\\n",
       "10161  {'Общая площадь:': '70.1 м²', 'Дата публикации...   \n",
       "717    {'Лифт:': 'да', 'Охрана:': 'предусмотрена', 'Т...   \n",
       "11832  {'Тип здания:': 'Панельный', 'Тип объекта:': '...   \n",
       "18527  {'Лифт:': 'да', 'Тип здания:': 'Монолитное', '...   \n",
       "7545   {'Тип здания:': 'Панельный', 'Тип объекта:': '...   \n",
       "\n",
       "                                                    date  \\\n",
       "10161                       [16 мая, 3, (+1 за сегодня)]   \n",
       "717                  [вчера в 05:44, 2, (+2 за сегодня)]   \n",
       "11832  [14 марта, 12, (+1 за сегодня), Обновлено 15 мая]   \n",
       "18527  [9 октября 2018, 33, (+2 за сегодня), Обновлен...   \n",
       "7545   [13 апреля, 10, (+3 за сегодня), Обновлено 17 ...   \n",
       "\n",
       "                                              user_block     id  \n",
       "10161  [<div class=\"block-user__name\">Елена Зуева</di...  52048  \n",
       "717    [<div class=\"block-user__name\">Офис продаж ЖК ...  10331  \n",
       "11832  [<div class=\"block-user__name\">Стройинвест</di...  60127  \n",
       "18527                                                 []  42054  \n",
       "7545   [<div class=\"block-user__name\">Стройинвест</di...  47950  "
      ]
     },
     "execution_count": 17,
     "metadata": {},
     "output_type": "execute_result"
    }
   ],
   "source": [
    "df.sample(5)"
   ]
  },
  {
   "cell_type": "code",
   "execution_count": 18,
   "id": "f8521796",
   "metadata": {},
   "outputs": [
    {
     "data": {
      "text/html": [
       "<div>\n",
       "<style scoped>\n",
       "    .dataframe tbody tr th:only-of-type {\n",
       "        vertical-align: middle;\n",
       "    }\n",
       "\n",
       "    .dataframe tbody tr th {\n",
       "        vertical-align: top;\n",
       "    }\n",
       "\n",
       "    .dataframe thead th {\n",
       "        text-align: right;\n",
       "    }\n",
       "</style>\n",
       "<table border=\"1\" class=\"dataframe\">\n",
       "  <thead>\n",
       "    <tr style=\"text-align: right;\">\n",
       "      <th></th>\n",
       "      <th>geo_block</th>\n",
       "      <th>breadcrumbs</th>\n",
       "      <th>price</th>\n",
       "      <th>owner</th>\n",
       "      <th>params</th>\n",
       "      <th>date</th>\n",
       "      <th>user_block</th>\n",
       "      <th>id</th>\n",
       "    </tr>\n",
       "  </thead>\n",
       "  <tbody>\n",
       "    <tr>\n",
       "      <th>22727</th>\n",
       "      <td>[г. Москва, Левобережный, г. Москва, Левобереж...</td>\n",
       "      <td>[Москва, Левобережный, м. Беломорская, МЦК Коп...</td>\n",
       "      <td>12 650 000 ₽</td>\n",
       "      <td>[]</td>\n",
       "      <td>{'Общая площадь:': '55 м²', 'Дата публикации:'...</td>\n",
       "      <td>[29 января, 27, (+1 за сегодня), Обновлено 16 ...</td>\n",
       "      <td>[&lt;div class=\"block-user__name\"&gt;Светлана&lt;/div&gt;,...</td>\n",
       "      <td>52832</td>\n",
       "    </tr>\n",
       "    <tr>\n",
       "      <th>22728</th>\n",
       "      <td>[г. Москва, г. Москва]</td>\n",
       "      <td>[Москва, МЦК Шелепиха]</td>\n",
       "      <td>17 610 000 ₽</td>\n",
       "      <td>[]</td>\n",
       "      <td>{'Лифт:': 'да', 'Тип здания:': 'Монолитное', '...</td>\n",
       "      <td>[3 апреля, 12, (+1 за сегодня), Обновлено 18 мая]</td>\n",
       "      <td>[&lt;div class=\"block-user__name\"&gt;Группа Компаний...</td>\n",
       "      <td>43857</td>\n",
       "    </tr>\n",
       "    <tr>\n",
       "      <th>22729</th>\n",
       "      <td>[г. Москва, Хорошёво-Мнёвники, г. Москва, Хоро...</td>\n",
       "      <td>[Москва, Хорошёво-Мнёвники, м. Октябрьское пол...</td>\n",
       "      <td>14 941 300 ₽</td>\n",
       "      <td>[]</td>\n",
       "      <td>{'Лифт:': 'да', 'Охрана:': 'предусмотрена', 'Т...</td>\n",
       "      <td>[16 мая, 2, (+1 за сегодня)]</td>\n",
       "      <td>[&lt;div class=\"block-user__name\"&gt;Офис продаж ЖК ...</td>\n",
       "      <td>14159</td>\n",
       "    </tr>\n",
       "    <tr>\n",
       "      <th>22730</th>\n",
       "      <td>[г. Москва, пр-кт Мира, г. Москва, пр-кт Мира]</td>\n",
       "      <td>[Москва, МЦК Ростокино, пр-кт. Мира]</td>\n",
       "      <td>21 610 000 ₽</td>\n",
       "      <td>[]</td>\n",
       "      <td>{'Лифт:': 'да', 'Охрана:': 'предусмотрена', 'Т...</td>\n",
       "      <td>[24 апреля, 3, (+1 за сегодня), Обновлено 16 мая]</td>\n",
       "      <td>[&lt;div class=\"block-user__name\"&gt;Агент&lt;/div&gt;, &lt;d...</td>\n",
       "      <td>54465</td>\n",
       "    </tr>\n",
       "    <tr>\n",
       "      <th>22731</th>\n",
       "      <td>[г. Москва, Дорогомилово, г. Москва, Дорогомил...</td>\n",
       "      <td>[Москва, Дорогомилово, м. Минская, МЦК Кутузов...</td>\n",
       "      <td>110 000 000 ₽</td>\n",
       "      <td>[]</td>\n",
       "      <td>{'Охрана:': 'предусмотрена', 'Тип здания:': 'М...</td>\n",
       "      <td>[19 апреля, 8, (+2 за сегодня), Обновлено 15 мая]</td>\n",
       "      <td>[&lt;div class=\"block-user__name\"&gt;Юрий&lt;/div&gt;, &lt;di...</td>\n",
       "      <td>60221</td>\n",
       "    </tr>\n",
       "  </tbody>\n",
       "</table>\n",
       "</div>"
      ],
      "text/plain": [
       "                                               geo_block  \\\n",
       "22727  [г. Москва, Левобережный, г. Москва, Левобереж...   \n",
       "22728                             [г. Москва, г. Москва]   \n",
       "22729  [г. Москва, Хорошёво-Мнёвники, г. Москва, Хоро...   \n",
       "22730     [г. Москва, пр-кт Мира, г. Москва, пр-кт Мира]   \n",
       "22731  [г. Москва, Дорогомилово, г. Москва, Дорогомил...   \n",
       "\n",
       "                                             breadcrumbs          price owner  \\\n",
       "22727  [Москва, Левобережный, м. Беломорская, МЦК Коп...   12 650 000 ₽    []   \n",
       "22728                             [Москва, МЦК Шелепиха]   17 610 000 ₽    []   \n",
       "22729  [Москва, Хорошёво-Мнёвники, м. Октябрьское пол...   14 941 300 ₽    []   \n",
       "22730               [Москва, МЦК Ростокино, пр-кт. Мира]   21 610 000 ₽    []   \n",
       "22731  [Москва, Дорогомилово, м. Минская, МЦК Кутузов...  110 000 000 ₽    []   \n",
       "\n",
       "                                                  params  \\\n",
       "22727  {'Общая площадь:': '55 м²', 'Дата публикации:'...   \n",
       "22728  {'Лифт:': 'да', 'Тип здания:': 'Монолитное', '...   \n",
       "22729  {'Лифт:': 'да', 'Охрана:': 'предусмотрена', 'Т...   \n",
       "22730  {'Лифт:': 'да', 'Охрана:': 'предусмотрена', 'Т...   \n",
       "22731  {'Охрана:': 'предусмотрена', 'Тип здания:': 'М...   \n",
       "\n",
       "                                                    date  \\\n",
       "22727  [29 января, 27, (+1 за сегодня), Обновлено 16 ...   \n",
       "22728  [3 апреля, 12, (+1 за сегодня), Обновлено 18 мая]   \n",
       "22729                       [16 мая, 2, (+1 за сегодня)]   \n",
       "22730  [24 апреля, 3, (+1 за сегодня), Обновлено 16 мая]   \n",
       "22731  [19 апреля, 8, (+2 за сегодня), Обновлено 15 мая]   \n",
       "\n",
       "                                              user_block     id  \n",
       "22727  [<div class=\"block-user__name\">Светлана</div>,...  52832  \n",
       "22728  [<div class=\"block-user__name\">Группа Компаний...  43857  \n",
       "22729  [<div class=\"block-user__name\">Офис продаж ЖК ...  14159  \n",
       "22730  [<div class=\"block-user__name\">Агент</div>, <d...  54465  \n",
       "22731  [<div class=\"block-user__name\">Юрий</div>, <di...  60221  "
      ]
     },
     "execution_count": 18,
     "metadata": {},
     "output_type": "execute_result"
    }
   ],
   "source": [
    "df.tail()"
   ]
  },
  {
   "cell_type": "code",
   "execution_count": 19,
   "id": "330123a9",
   "metadata": {},
   "outputs": [
    {
     "name": "stdout",
     "output_type": "stream",
     "text": [
      "<class 'pandas.core.frame.DataFrame'>\n",
      "Int64Index: 22732 entries, 0 to 22731\n",
      "Data columns (total 8 columns):\n",
      " #   Column       Non-Null Count  Dtype \n",
      "---  ------       --------------  ----- \n",
      " 0   geo_block    22732 non-null  object\n",
      " 1   breadcrumbs  22732 non-null  object\n",
      " 2   price        22732 non-null  object\n",
      " 3   owner        22732 non-null  object\n",
      " 4   params       22732 non-null  object\n",
      " 5   date         22732 non-null  object\n",
      " 6   user_block   22732 non-null  object\n",
      " 7   id           22732 non-null  int64 \n",
      "dtypes: int64(1), object(7)\n",
      "memory usage: 1.6+ MB\n"
     ]
    }
   ],
   "source": [
    "df.info()"
   ]
  },
  {
   "cell_type": "markdown",
   "id": "4a614c08",
   "metadata": {},
   "source": [
    "### 3.Data transformation\n",
    "- `.map()`\n",
    "- `.apply()`\n",
    "- `.fillna()`\n",
    "- `.factorize()`"
   ]
  },
  {
   "cell_type": "code",
   "execution_count": 20,
   "id": "caa124bf",
   "metadata": {},
   "outputs": [
    {
     "data": {
      "text/plain": [
       "0          5 402 084 ₽\n",
       "1          6 827 990 ₽\n",
       "2          8 680 000 ₽\n",
       "3          8 624 435 ₽\n",
       "4         29 500 000 ₽\n",
       "             ...      \n",
       "22727     12 650 000 ₽\n",
       "22728     17 610 000 ₽\n",
       "22729     14 941 300 ₽\n",
       "22730     21 610 000 ₽\n",
       "22731    110 000 000 ₽\n",
       "Name: price, Length: 22732, dtype: object"
      ]
     },
     "execution_count": 20,
     "metadata": {},
     "output_type": "execute_result"
    }
   ],
   "source": [
    "df[\"price\"]"
   ]
  },
  {
   "cell_type": "code",
   "execution_count": 21,
   "id": "8ca5207a",
   "metadata": {},
   "outputs": [
    {
     "data": {
      "text/plain": [
       "['5 402 084 ', '']"
      ]
     },
     "execution_count": 21,
     "metadata": {},
     "output_type": "execute_result"
    }
   ],
   "source": [
    "\"5 402 084 ₽\".split(\"₽\")"
   ]
  },
  {
   "cell_type": "code",
   "execution_count": 22,
   "id": "3127ddc3",
   "metadata": {},
   "outputs": [
    {
     "data": {
      "text/plain": [
       "'5 402 084 '"
      ]
     },
     "execution_count": 22,
     "metadata": {},
     "output_type": "execute_result"
    }
   ],
   "source": [
    "\"5 402 084 ₽\".split(\"₽\")[0]"
   ]
  },
  {
   "cell_type": "code",
   "execution_count": 23,
   "id": "c67f7675",
   "metadata": {},
   "outputs": [
    {
     "data": {
      "text/plain": [
       "'5402084'"
      ]
     },
     "execution_count": 23,
     "metadata": {},
     "output_type": "execute_result"
    }
   ],
   "source": [
    "\"5 402 084 ₽\".split(\"₽\")[0].replace(\" \", \"\")"
   ]
  },
  {
   "cell_type": "code",
   "execution_count": 24,
   "id": "3f09f15f",
   "metadata": {},
   "outputs": [
    {
     "data": {
      "text/plain": [
       "5402084"
      ]
     },
     "execution_count": 24,
     "metadata": {},
     "output_type": "execute_result"
    }
   ],
   "source": [
    "int(\"5 402 084 ₽\".split(\"₽\")[0].replace(\" \", \"\"))"
   ]
  },
  {
   "cell_type": "code",
   "execution_count": 25,
   "id": "6d02c054",
   "metadata": {},
   "outputs": [
    {
     "data": {
      "text/plain": [
       "0          5402084\n",
       "1          6827990\n",
       "2          8680000\n",
       "3          8624435\n",
       "4         29500000\n",
       "           ...    \n",
       "22727     12650000\n",
       "22728     17610000\n",
       "22729     14941300\n",
       "22730     21610000\n",
       "22731    110000000\n",
       "Name: price, Length: 22732, dtype: int64"
      ]
     },
     "execution_count": 25,
     "metadata": {},
     "output_type": "execute_result"
    }
   ],
   "source": [
    "df[\"price\"].map(lambda x: int(x.split(\"₽\")[0].replace(\" \", \"\")))"
   ]
  },
  {
   "cell_type": "code",
   "execution_count": 26,
   "id": "792dc757",
   "metadata": {},
   "outputs": [],
   "source": [
    "def parse_price(x):\n",
    "    return int(x.split(\"₽\")[0].replace(\" \", \"\"))"
   ]
  },
  {
   "cell_type": "code",
   "execution_count": 27,
   "id": "7ed6ebe2",
   "metadata": {},
   "outputs": [
    {
     "data": {
      "text/plain": [
       "0          5402084\n",
       "1          6827990\n",
       "2          8680000\n",
       "3          8624435\n",
       "4         29500000\n",
       "           ...    \n",
       "22727     12650000\n",
       "22728     17610000\n",
       "22729     14941300\n",
       "22730     21610000\n",
       "22731    110000000\n",
       "Name: price, Length: 22732, dtype: int64"
      ]
     },
     "execution_count": 27,
     "metadata": {},
     "output_type": "execute_result"
    }
   ],
   "source": [
    "df[\"price\"].map(parse_price)"
   ]
  },
  {
   "cell_type": "code",
   "execution_count": 28,
   "id": "b22a9344",
   "metadata": {},
   "outputs": [
    {
     "data": {
      "text/plain": [
       "0          г. Москва => 5 402 084 ₽\n",
       "1          г. Москва => 6 827 990 ₽\n",
       "2          г. Москва => 8 680 000 ₽\n",
       "3          г. Москва => 8 624 435 ₽\n",
       "4         г. Москва => 29 500 000 ₽\n",
       "                    ...            \n",
       "22727     г. Москва => 12 650 000 ₽\n",
       "22728     г. Москва => 17 610 000 ₽\n",
       "22729     г. Москва => 14 941 300 ₽\n",
       "22730     г. Москва => 21 610 000 ₽\n",
       "22731    г. Москва => 110 000 000 ₽\n",
       "Length: 22732, dtype: object"
      ]
     },
     "execution_count": 28,
     "metadata": {},
     "output_type": "execute_result"
    }
   ],
   "source": [
    "df.apply(lambda row: row[\"geo_block\"][0] + \" => \" + row[\"price\"], axis=1)"
   ]
  },
  {
   "cell_type": "code",
   "execution_count": 29,
   "id": "bfe4219f",
   "metadata": {},
   "outputs": [],
   "source": [
    "df = df.fillna(-1)"
   ]
  },
  {
   "cell_type": "code",
   "execution_count": 30,
   "id": "322e34d8",
   "metadata": {},
   "outputs": [
    {
     "data": {
      "text/plain": [
       "0             [г. Москва, Лианозово, г. Москва, Лианозово]\n",
       "1                 [г. Москва, Ховрино, г. Москва, Ховрино]\n",
       "2        [г. Москва, ул Лобачевского, г. Москва, ул Лоб...\n",
       "3        [г. Москва, Ховрино, ул Дыбенко, г. Москва, Хо...\n",
       "4         [г. Москва, Даниловский, г. Москва, Даниловский]\n",
       "                               ...                        \n",
       "22727    [г. Москва, Левобережный, г. Москва, Левобереж...\n",
       "22728                               [г. Москва, г. Москва]\n",
       "22729    [г. Москва, Хорошёво-Мнёвники, г. Москва, Хоро...\n",
       "22730       [г. Москва, пр-кт Мира, г. Москва, пр-кт Мира]\n",
       "22731    [г. Москва, Дорогомилово, г. Москва, Дорогомил...\n",
       "Name: geo_block, Length: 22732, dtype: object"
      ]
     },
     "execution_count": 30,
     "metadata": {},
     "output_type": "execute_result"
    }
   ],
   "source": [
    "df[\"geo_block\"]"
   ]
  },
  {
   "cell_type": "code",
   "execution_count": 31,
   "id": "ba62000b",
   "metadata": {},
   "outputs": [
    {
     "data": {
      "text/plain": [
       "0        г. Москва\n",
       "1        г. Москва\n",
       "2        г. Москва\n",
       "3        г. Москва\n",
       "4        г. Москва\n",
       "           ...    \n",
       "22727    г. Москва\n",
       "22728    г. Москва\n",
       "22729    г. Москва\n",
       "22730    г. Москва\n",
       "22731    г. Москва\n",
       "Name: geo_block, Length: 22732, dtype: object"
      ]
     },
     "execution_count": 31,
     "metadata": {},
     "output_type": "execute_result"
    }
   ],
   "source": [
    "df[\"geo_block\"].map(lambda x: x[0])"
   ]
  },
  {
   "cell_type": "code",
   "execution_count": 32,
   "id": "6d1e3bae",
   "metadata": {},
   "outputs": [
    {
     "data": {
      "text/plain": [
       "(array([0, 0, 0, ..., 0, 0, 0], dtype=int64),\n",
       " Index(['г. Москва', 'Новая Москва', 'г. Зеленоград', 'п. Свиблово',\n",
       "        'п. Некрасовка', 'п. Рублево', 'п. Новобратцевский', 'д. Сколково',\n",
       "        'п. Подушкино'],\n",
       "       dtype='object'))"
      ]
     },
     "execution_count": 32,
     "metadata": {},
     "output_type": "execute_result"
    }
   ],
   "source": [
    "ids, labels = df[\"geo_block\"].map(lambda x: x[0]).factorize()\n",
    "ids, labels"
   ]
  },
  {
   "cell_type": "code",
   "execution_count": 33,
   "id": "b79f2cf4",
   "metadata": {},
   "outputs": [
    {
     "data": {
      "text/plain": [
       "0        0\n",
       "1        0\n",
       "2        0\n",
       "3        0\n",
       "4        0\n",
       "        ..\n",
       "22727    0\n",
       "22728    0\n",
       "22729    0\n",
       "22730    0\n",
       "22731    0\n",
       "Name: geo_block_0_cat, Length: 22732, dtype: int64"
      ]
     },
     "execution_count": 33,
     "metadata": {},
     "output_type": "execute_result"
    }
   ],
   "source": [
    "df[\"geo_block_0_cat\"] = df[\"geo_block\"].map(lambda x: x[0]).factorize()[0]\n",
    "df[\"geo_block_0_cat\"]"
   ]
  },
  {
   "cell_type": "markdown",
   "id": "03798aec",
   "metadata": {},
   "source": [
    "### 4. Grouping/sort data\n",
    "\n",
    ".value_counts()\n",
    "\n",
    ".groupby()\n",
    "\n",
    ".agg()\n",
    "\n",
    ".sort_values()\n",
    "\n",
    ".pivottable()"
   ]
  },
  {
   "cell_type": "code",
   "execution_count": 35,
   "id": "6f260995",
   "metadata": {},
   "outputs": [
    {
     "data": {
      "text/plain": [
       "г. Москва             19310\n",
       "Новая Москва           3021\n",
       "г. Зеленоград           210\n",
       "п. Свиблово              93\n",
       "п. Некрасовка            92\n",
       "п. Новобратцевский        3\n",
       "п. Рублево                1\n",
       "д. Сколково               1\n",
       "п. Подушкино              1\n",
       "Name: geo_block, dtype: int64"
      ]
     },
     "execution_count": 35,
     "metadata": {},
     "output_type": "execute_result"
    }
   ],
   "source": [
    "df[\"geo_block\"].map(lambda x: x[0]).value_counts()"
   ]
  },
  {
   "cell_type": "code",
   "execution_count": 36,
   "id": "1904ffac",
   "metadata": {},
   "outputs": [
    {
     "data": {
      "text/plain": [
       "г. Москва             0.849463\n",
       "Новая Москва          0.132896\n",
       "г. Зеленоград         0.009238\n",
       "п. Свиблово           0.004091\n",
       "п. Некрасовка         0.004047\n",
       "п. Новобратцевский    0.000132\n",
       "п. Рублево            0.000044\n",
       "д. Сколково           0.000044\n",
       "п. Подушкино          0.000044\n",
       "Name: geo_block, dtype: float64"
      ]
     },
     "execution_count": 36,
     "metadata": {},
     "output_type": "execute_result"
    }
   ],
   "source": [
    "df[\"geo_block\"].map(lambda x: x[0]).value_counts(normalize=True)"
   ]
  },
  {
   "cell_type": "code",
   "execution_count": 37,
   "id": "cca15c5b",
   "metadata": {},
   "outputs": [],
   "source": [
    "df[\"price_num\"] = df[\"price\"].map(parse_price).map(lambda x: x/1000000)\n",
    "df[\"geo_block_0\"] = df[\"geo_block\"].map(lambda x: x[0])"
   ]
  },
  {
   "cell_type": "code",
   "execution_count": 38,
   "id": "442bc8fd",
   "metadata": {},
   "outputs": [
    {
     "data": {
      "text/html": [
       "<div>\n",
       "<style scoped>\n",
       "    .dataframe tbody tr th:only-of-type {\n",
       "        vertical-align: middle;\n",
       "    }\n",
       "\n",
       "    .dataframe tbody tr th {\n",
       "        vertical-align: top;\n",
       "    }\n",
       "\n",
       "    .dataframe thead th {\n",
       "        text-align: right;\n",
       "    }\n",
       "</style>\n",
       "<table border=\"1\" class=\"dataframe\">\n",
       "  <thead>\n",
       "    <tr style=\"text-align: right;\">\n",
       "      <th></th>\n",
       "      <th>geo_block_0</th>\n",
       "      <th>price_num</th>\n",
       "    </tr>\n",
       "  </thead>\n",
       "  <tbody>\n",
       "    <tr>\n",
       "      <th>0</th>\n",
       "      <td>г. Москва</td>\n",
       "      <td>5.402084</td>\n",
       "    </tr>\n",
       "    <tr>\n",
       "      <th>1</th>\n",
       "      <td>г. Москва</td>\n",
       "      <td>6.827990</td>\n",
       "    </tr>\n",
       "    <tr>\n",
       "      <th>2</th>\n",
       "      <td>г. Москва</td>\n",
       "      <td>8.680000</td>\n",
       "    </tr>\n",
       "    <tr>\n",
       "      <th>3</th>\n",
       "      <td>г. Москва</td>\n",
       "      <td>8.624435</td>\n",
       "    </tr>\n",
       "    <tr>\n",
       "      <th>4</th>\n",
       "      <td>г. Москва</td>\n",
       "      <td>29.500000</td>\n",
       "    </tr>\n",
       "    <tr>\n",
       "      <th>...</th>\n",
       "      <td>...</td>\n",
       "      <td>...</td>\n",
       "    </tr>\n",
       "    <tr>\n",
       "      <th>22727</th>\n",
       "      <td>г. Москва</td>\n",
       "      <td>12.650000</td>\n",
       "    </tr>\n",
       "    <tr>\n",
       "      <th>22728</th>\n",
       "      <td>г. Москва</td>\n",
       "      <td>17.610000</td>\n",
       "    </tr>\n",
       "    <tr>\n",
       "      <th>22729</th>\n",
       "      <td>г. Москва</td>\n",
       "      <td>14.941300</td>\n",
       "    </tr>\n",
       "    <tr>\n",
       "      <th>22730</th>\n",
       "      <td>г. Москва</td>\n",
       "      <td>21.610000</td>\n",
       "    </tr>\n",
       "    <tr>\n",
       "      <th>22731</th>\n",
       "      <td>г. Москва</td>\n",
       "      <td>110.000000</td>\n",
       "    </tr>\n",
       "  </tbody>\n",
       "</table>\n",
       "<p>22732 rows × 2 columns</p>\n",
       "</div>"
      ],
      "text/plain": [
       "      geo_block_0   price_num\n",
       "0       г. Москва    5.402084\n",
       "1       г. Москва    6.827990\n",
       "2       г. Москва    8.680000\n",
       "3       г. Москва    8.624435\n",
       "4       г. Москва   29.500000\n",
       "...           ...         ...\n",
       "22727   г. Москва   12.650000\n",
       "22728   г. Москва   17.610000\n",
       "22729   г. Москва   14.941300\n",
       "22730   г. Москва   21.610000\n",
       "22731   г. Москва  110.000000\n",
       "\n",
       "[22732 rows x 2 columns]"
      ]
     },
     "execution_count": 38,
     "metadata": {},
     "output_type": "execute_result"
    }
   ],
   "source": [
    "df[ [\"geo_block_0\", \"price_num\"] ]"
   ]
  },
  {
   "cell_type": "code",
   "execution_count": 39,
   "id": "76fb36ea",
   "metadata": {},
   "outputs": [
    {
     "data": {
      "text/plain": [
       "geo_block_0\n",
       "Новая Москва           7.274062\n",
       "г. Зеленоград          6.454942\n",
       "г. Москва             19.285050\n",
       "д. Сколково           19.000000\n",
       "п. Некрасовка          7.354500\n",
       "п. Новобратцевский     6.777011\n",
       "п. Подушкино          10.000000\n",
       "п. Рублево            30.000000\n",
       "п. Свиблово           20.528074\n",
       "Name: price_num, dtype: float64"
      ]
     },
     "execution_count": 39,
     "metadata": {},
     "output_type": "execute_result"
    }
   ],
   "source": [
    "df.groupby(\"geo_block_0\").agg(\"mean\")[\"price_num\"]"
   ]
  },
  {
   "cell_type": "code",
   "execution_count": 40,
   "id": "1c74e197",
   "metadata": {},
   "outputs": [
    {
     "data": {
      "text/plain": [
       "geo_block_0\n",
       "г. Зеленоград          6.454942\n",
       "п. Новобратцевский     6.777011\n",
       "Новая Москва           7.274062\n",
       "п. Некрасовка          7.354500\n",
       "п. Подушкино          10.000000\n",
       "д. Сколково           19.000000\n",
       "г. Москва             19.285050\n",
       "п. Свиблово           20.528074\n",
       "п. Рублево            30.000000\n",
       "Name: price_num, dtype: float64"
      ]
     },
     "execution_count": 40,
     "metadata": {},
     "output_type": "execute_result"
    }
   ],
   "source": [
    "df.groupby(\"geo_block_0\").agg(\"mean\")[\"price_num\"].sort_values()"
   ]
  },
  {
   "cell_type": "code",
   "execution_count": 41,
   "id": "9c7cb579",
   "metadata": {},
   "outputs": [
    {
     "data": {
      "text/plain": [
       "geo_block_0\n",
       "п. Рублево            30.000000\n",
       "п. Свиблово           20.528074\n",
       "г. Москва             19.285050\n",
       "д. Сколково           19.000000\n",
       "п. Подушкино          10.000000\n",
       "п. Некрасовка          7.354500\n",
       "Новая Москва           7.274062\n",
       "п. Новобратцевский     6.777011\n",
       "г. Зеленоград          6.454942\n",
       "Name: price_num, dtype: float64"
      ]
     },
     "execution_count": 41,
     "metadata": {},
     "output_type": "execute_result"
    }
   ],
   "source": [
    "df.groupby(\"geo_block_0\").agg(\"mean\")[\"price_num\"].sort_values(ascending=False)"
   ]
  },
  {
   "cell_type": "code",
   "execution_count": 42,
   "id": "1821a190",
   "metadata": {},
   "outputs": [
    {
     "data": {
      "text/html": [
       "<div>\n",
       "<style scoped>\n",
       "    .dataframe tbody tr th:only-of-type {\n",
       "        vertical-align: middle;\n",
       "    }\n",
       "\n",
       "    .dataframe tbody tr th {\n",
       "        vertical-align: top;\n",
       "    }\n",
       "\n",
       "    .dataframe thead th {\n",
       "        text-align: right;\n",
       "    }\n",
       "</style>\n",
       "<table border=\"1\" class=\"dataframe\">\n",
       "  <thead>\n",
       "    <tr style=\"text-align: right;\">\n",
       "      <th></th>\n",
       "      <th>mean</th>\n",
       "      <th>min</th>\n",
       "      <th>max</th>\n",
       "      <th>len</th>\n",
       "    </tr>\n",
       "    <tr>\n",
       "      <th>geo_block_0</th>\n",
       "      <th></th>\n",
       "      <th></th>\n",
       "      <th></th>\n",
       "      <th></th>\n",
       "    </tr>\n",
       "  </thead>\n",
       "  <tbody>\n",
       "    <tr>\n",
       "      <th>п. Рублево</th>\n",
       "      <td>30.000000</td>\n",
       "      <td>30.000000</td>\n",
       "      <td>30.000000</td>\n",
       "      <td>1</td>\n",
       "    </tr>\n",
       "    <tr>\n",
       "      <th>п. Свиблово</th>\n",
       "      <td>20.528074</td>\n",
       "      <td>10.137197</td>\n",
       "      <td>60.132751</td>\n",
       "      <td>93</td>\n",
       "    </tr>\n",
       "    <tr>\n",
       "      <th>г. Москва</th>\n",
       "      <td>19.285050</td>\n",
       "      <td>1.040000</td>\n",
       "      <td>3000.000015</td>\n",
       "      <td>19310</td>\n",
       "    </tr>\n",
       "    <tr>\n",
       "      <th>д. Сколково</th>\n",
       "      <td>19.000000</td>\n",
       "      <td>19.000000</td>\n",
       "      <td>19.000000</td>\n",
       "      <td>1</td>\n",
       "    </tr>\n",
       "    <tr>\n",
       "      <th>п. Подушкино</th>\n",
       "      <td>10.000000</td>\n",
       "      <td>10.000000</td>\n",
       "      <td>10.000000</td>\n",
       "      <td>1</td>\n",
       "    </tr>\n",
       "    <tr>\n",
       "      <th>п. Некрасовка</th>\n",
       "      <td>7.354500</td>\n",
       "      <td>4.220000</td>\n",
       "      <td>10.540000</td>\n",
       "      <td>92</td>\n",
       "    </tr>\n",
       "    <tr>\n",
       "      <th>Новая Москва</th>\n",
       "      <td>7.274062</td>\n",
       "      <td>1.830000</td>\n",
       "      <td>221.000000</td>\n",
       "      <td>3021</td>\n",
       "    </tr>\n",
       "    <tr>\n",
       "      <th>п. Новобратцевский</th>\n",
       "      <td>6.777011</td>\n",
       "      <td>5.648555</td>\n",
       "      <td>8.862161</td>\n",
       "      <td>3</td>\n",
       "    </tr>\n",
       "    <tr>\n",
       "      <th>г. Зеленоград</th>\n",
       "      <td>6.454942</td>\n",
       "      <td>2.001840</td>\n",
       "      <td>17.000000</td>\n",
       "      <td>210</td>\n",
       "    </tr>\n",
       "  </tbody>\n",
       "</table>\n",
       "</div>"
      ],
      "text/plain": [
       "                         mean        min          max    len\n",
       "geo_block_0                                                 \n",
       "п. Рублево          30.000000  30.000000    30.000000      1\n",
       "п. Свиблово         20.528074  10.137197    60.132751     93\n",
       "г. Москва           19.285050   1.040000  3000.000015  19310\n",
       "д. Сколково         19.000000  19.000000    19.000000      1\n",
       "п. Подушкино        10.000000  10.000000    10.000000      1\n",
       "п. Некрасовка        7.354500   4.220000    10.540000     92\n",
       "Новая Москва         7.274062   1.830000   221.000000   3021\n",
       "п. Новобратцевский   6.777011   5.648555     8.862161      3\n",
       "г. Зеленоград        6.454942   2.001840    17.000000    210"
      ]
     },
     "execution_count": 42,
     "metadata": {},
     "output_type": "execute_result"
    }
   ],
   "source": [
    "df.groupby(\"geo_block_0\").agg([\"mean\", \"min\", \"max\", len])[\"price_num\"].sort_values(by=\"mean\", ascending=False)"
   ]
  },
  {
   "cell_type": "code",
   "execution_count": 43,
   "id": "c44fba23",
   "metadata": {},
   "outputs": [
    {
     "data": {
      "text/html": [
       "<div>\n",
       "<style scoped>\n",
       "    .dataframe tbody tr th:only-of-type {\n",
       "        vertical-align: middle;\n",
       "    }\n",
       "\n",
       "    .dataframe tbody tr th {\n",
       "        vertical-align: top;\n",
       "    }\n",
       "\n",
       "    .dataframe thead tr th {\n",
       "        text-align: left;\n",
       "    }\n",
       "\n",
       "    .dataframe thead tr:last-of-type th {\n",
       "        text-align: right;\n",
       "    }\n",
       "</style>\n",
       "<table border=\"1\" class=\"dataframe\">\n",
       "  <thead>\n",
       "    <tr>\n",
       "      <th></th>\n",
       "      <th>mean</th>\n",
       "      <th>min</th>\n",
       "      <th>max</th>\n",
       "      <th>len</th>\n",
       "    </tr>\n",
       "    <tr>\n",
       "      <th></th>\n",
       "      <th>price_num</th>\n",
       "      <th>price_num</th>\n",
       "      <th>price_num</th>\n",
       "      <th>price_num</th>\n",
       "    </tr>\n",
       "    <tr>\n",
       "      <th>geo_block_0</th>\n",
       "      <th></th>\n",
       "      <th></th>\n",
       "      <th></th>\n",
       "      <th></th>\n",
       "    </tr>\n",
       "  </thead>\n",
       "  <tbody>\n",
       "    <tr>\n",
       "      <th>Новая Москва</th>\n",
       "      <td>7.274062</td>\n",
       "      <td>1.830000</td>\n",
       "      <td>221.000000</td>\n",
       "      <td>3021</td>\n",
       "    </tr>\n",
       "    <tr>\n",
       "      <th>г. Зеленоград</th>\n",
       "      <td>6.454942</td>\n",
       "      <td>2.001840</td>\n",
       "      <td>17.000000</td>\n",
       "      <td>210</td>\n",
       "    </tr>\n",
       "    <tr>\n",
       "      <th>г. Москва</th>\n",
       "      <td>19.285050</td>\n",
       "      <td>1.040000</td>\n",
       "      <td>3000.000015</td>\n",
       "      <td>19310</td>\n",
       "    </tr>\n",
       "    <tr>\n",
       "      <th>д. Сколково</th>\n",
       "      <td>19.000000</td>\n",
       "      <td>19.000000</td>\n",
       "      <td>19.000000</td>\n",
       "      <td>1</td>\n",
       "    </tr>\n",
       "    <tr>\n",
       "      <th>п. Некрасовка</th>\n",
       "      <td>7.354500</td>\n",
       "      <td>4.220000</td>\n",
       "      <td>10.540000</td>\n",
       "      <td>92</td>\n",
       "    </tr>\n",
       "    <tr>\n",
       "      <th>п. Новобратцевский</th>\n",
       "      <td>6.777011</td>\n",
       "      <td>5.648555</td>\n",
       "      <td>8.862161</td>\n",
       "      <td>3</td>\n",
       "    </tr>\n",
       "    <tr>\n",
       "      <th>п. Подушкино</th>\n",
       "      <td>10.000000</td>\n",
       "      <td>10.000000</td>\n",
       "      <td>10.000000</td>\n",
       "      <td>1</td>\n",
       "    </tr>\n",
       "    <tr>\n",
       "      <th>п. Рублево</th>\n",
       "      <td>30.000000</td>\n",
       "      <td>30.000000</td>\n",
       "      <td>30.000000</td>\n",
       "      <td>1</td>\n",
       "    </tr>\n",
       "    <tr>\n",
       "      <th>п. Свиблово</th>\n",
       "      <td>20.528074</td>\n",
       "      <td>10.137197</td>\n",
       "      <td>60.132751</td>\n",
       "      <td>93</td>\n",
       "    </tr>\n",
       "  </tbody>\n",
       "</table>\n",
       "</div>"
      ],
      "text/plain": [
       "                         mean        min          max       len\n",
       "                    price_num  price_num    price_num price_num\n",
       "geo_block_0                                                    \n",
       "Новая Москва         7.274062   1.830000   221.000000      3021\n",
       "г. Зеленоград        6.454942   2.001840    17.000000       210\n",
       "г. Москва           19.285050   1.040000  3000.000015     19310\n",
       "д. Сколково         19.000000  19.000000    19.000000         1\n",
       "п. Некрасовка        7.354500   4.220000    10.540000        92\n",
       "п. Новобратцевский   6.777011   5.648555     8.862161         3\n",
       "п. Подушкино        10.000000  10.000000    10.000000         1\n",
       "п. Рублево          30.000000  30.000000    30.000000         1\n",
       "п. Свиблово         20.528074  10.137197    60.132751        93"
      ]
     },
     "execution_count": 43,
     "metadata": {},
     "output_type": "execute_result"
    }
   ],
   "source": [
    "pd.pivot_table(df, index=[\"geo_block_0\"], values=[\"price_num\"], aggfunc=[\"mean\", \"min\", \"max\", len] )"
   ]
  },
  {
   "cell_type": "markdown",
   "id": "6737603c",
   "metadata": {},
   "source": [
    "### 5. Math statistic functions"
   ]
  },
  {
   "cell_type": "code",
   "execution_count": 44,
   "id": "3e41c5b5",
   "metadata": {},
   "outputs": [
    {
     "data": {
      "text/plain": [
       "(1.04, 3000.000015)"
      ]
     },
     "execution_count": 44,
     "metadata": {},
     "output_type": "execute_result"
    }
   ],
   "source": [
    "df[\"price_num\"].min(), df[\"price_num\"].max()"
   ]
  },
  {
   "cell_type": "code",
   "execution_count": 45,
   "id": "9b623404",
   "metadata": {},
   "outputs": [],
   "source": [
    "vals = [1, 4, 2, 3, 2]"
   ]
  },
  {
   "cell_type": "code",
   "execution_count": 46,
   "id": "94269d35",
   "metadata": {},
   "outputs": [
    {
     "data": {
      "text/plain": [
       "2.4"
      ]
     },
     "execution_count": 46,
     "metadata": {},
     "output_type": "execute_result"
    }
   ],
   "source": [
    "np.mean([1, 4, 2, 3, 2])"
   ]
  },
  {
   "cell_type": "code",
   "execution_count": 47,
   "id": "ff043483",
   "metadata": {},
   "outputs": [
    {
     "data": {
      "text/plain": [
       "1090.0"
      ]
     },
     "execution_count": 47,
     "metadata": {},
     "output_type": "execute_result"
    }
   ],
   "source": [
    "np.mean([100] * 9 + [10000])"
   ]
  },
  {
   "cell_type": "code",
   "execution_count": 48,
   "id": "429e9ae7",
   "metadata": {},
   "outputs": [
    {
     "data": {
      "text/plain": [
       "100.0"
      ]
     },
     "execution_count": 48,
     "metadata": {},
     "output_type": "execute_result"
    }
   ],
   "source": [
    "np.median([100] * 9 + [10000])"
   ]
  },
  {
   "cell_type": "code",
   "execution_count": 49,
   "id": "d0b7bae9",
   "metadata": {},
   "outputs": [
    {
     "data": {
      "text/plain": [
       "(17.5255080538888, 9.88875)"
      ]
     },
     "execution_count": 49,
     "metadata": {},
     "output_type": "execute_result"
    }
   ],
   "source": [
    "df[\"price_num\"].mean(), df[\"price_num\"].median()"
   ]
  },
  {
   "cell_type": "markdown",
   "id": "19114d36",
   "metadata": {},
   "source": [
    "### 6. Visualize data"
   ]
  },
  {
   "cell_type": "code",
   "execution_count": 51,
   "id": "2437da10",
   "metadata": {},
   "outputs": [
    {
     "data": {
      "image/png": "[encoded data removed]",
      "text/plain": [
       "<Figure size 432x288 with 1 Axes>"
      ]
     },
     "metadata": {
      "needs_background": "light"
     },
     "output_type": "display_data"
    }
   ],
   "source": [
    "df[\"price_num\"].hist(bins=100);"
   ]
  },
  {
   "cell_type": "code",
   "execution_count": 52,
   "id": "fa33c7a4",
   "metadata": {},
   "outputs": [
    {
     "data": {
      "image/png": "[encoded data removed]",
      "text/plain": [
       "<Figure size 432x288 with 1 Axes>"
      ]
     },
     "metadata": {
      "needs_background": "light"
     },
     "output_type": "display_data"
    }
   ],
   "source": [
    "np.log10(df[\"price_num\"]).hist(bins=100);"
   ]
  },
  {
   "cell_type": "code",
   "execution_count": 53,
   "id": "a467ac4b",
   "metadata": {},
   "outputs": [
    {
     "data": {
      "text/plain": [
       "31.622776601683793"
      ]
     },
     "execution_count": 53,
     "metadata": {},
     "output_type": "execute_result"
    }
   ],
   "source": [
    "10**1.5"
   ]
  },
  {
   "cell_type": "code",
   "execution_count": 54,
   "id": "bbf5a836",
   "metadata": {},
   "outputs": [
    {
     "data": {
      "text/plain": [
       "0.0"
      ]
     },
     "execution_count": 54,
     "metadata": {},
     "output_type": "execute_result"
    }
   ],
   "source": [
    "np.log10(1)"
   ]
  },
  {
   "cell_type": "markdown",
   "id": "c71558fd",
   "metadata": {},
   "source": [
    "### 7. Other functions"
   ]
  },
  {
   "cell_type": "code",
   "execution_count": 55,
   "id": "6149a629",
   "metadata": {},
   "outputs": [
    {
     "data": {
      "text/plain": [
       "0        (1.0390000000000001, 6.65]\n",
       "1                       (6.65, 8.7]\n",
       "2                       (6.65, 8.7]\n",
       "3                       (6.65, 8.7]\n",
       "4                   (17.68, 3000.0]\n",
       "                    ...            \n",
       "22727               (11.498, 17.68]\n",
       "22728               (11.498, 17.68]\n",
       "22729               (11.498, 17.68]\n",
       "22730               (17.68, 3000.0]\n",
       "22731               (17.68, 3000.0]\n",
       "Name: price_num, Length: 22732, dtype: category\n",
       "Categories (5, interval[float64, right]): [(1.0390000000000001, 6.65] < (6.65, 8.7] < (8.7, 11.498] < (11.498, 17.68] < (17.68, 3000.0]]"
      ]
     },
     "execution_count": 55,
     "metadata": {},
     "output_type": "execute_result"
    }
   ],
   "source": [
    "pd.qcut(df[\"price_num\"], 5)"
   ]
  },
  {
   "cell_type": "code",
   "execution_count": 56,
   "id": "851bff47",
   "metadata": {},
   "outputs": [
    {
     "data": {
      "text/plain": [
       "(1.0390000000000001, 6.65]    4552\n",
       "(6.65, 8.7]                   4551\n",
       "(11.498, 17.68]               4547\n",
       "(17.68, 3000.0]               4546\n",
       "(8.7, 11.498]                 4536\n",
       "Name: price_num, dtype: int64"
      ]
     },
     "execution_count": 56,
     "metadata": {},
     "output_type": "execute_result"
    }
   ],
   "source": [
    "pd.qcut(df[\"price_num\"], 5).value_counts()"
   ]
  },
  {
   "cell_type": "code",
   "execution_count": 57,
   "id": "a3541825",
   "metadata": {},
   "outputs": [
    {
     "data": {
      "text/plain": [
       "9"
      ]
     },
     "execution_count": 57,
     "metadata": {},
     "output_type": "execute_result"
    }
   ],
   "source": [
    "df[\"geo_block_0\"].nunique()"
   ]
  },
  {
   "cell_type": "code",
   "execution_count": 58,
   "id": "03eca062",
   "metadata": {},
   "outputs": [
    {
     "data": {
      "text/plain": [
       "array(['г. Москва', 'Новая Москва', 'г. Зеленоград', 'п. Свиблово',\n",
       "       'п. Некрасовка', 'п. Рублево', 'п. Новобратцевский', 'д. Сколково',\n",
       "       'п. Подушкино'], dtype=object)"
      ]
     },
     "execution_count": 58,
     "metadata": {},
     "output_type": "execute_result"
    }
   ],
   "source": [
    "df[\"geo_block_0\"].unique()"
   ]
  }
 ],
 "metadata": {
  "kernelspec": {
   "display_name": "Python 3 (ipykernel)",
   "language": "python",
   "name": "python3"
  },
  "language_info": {
   "codemirror_mode": {
    "name": "ipython",
    "version": 3
   },
   "file_extension": ".py",
   "mimetype": "text/x-python",
   "name": "python",
   "nbconvert_exporter": "python",
   "pygments_lexer": "ipython3",
   "version": "3.9.7"
  }
 },
 "nbformat": 4,
 "nbformat_minor": 5
}
